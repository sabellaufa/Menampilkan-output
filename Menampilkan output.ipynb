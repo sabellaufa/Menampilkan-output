{
 "cells": [
  {
   "cell_type": "markdown",
   "id": "0aa0599e-d349-4b98-9857-54d0d07f4dcf",
   "metadata": {},
   "source": [
    "Jika terdapat kalimat UNIVERSITAS NUSA PUTRA SUKABUMI, buatlah kode program untuk menampilkan output: a.putra nusa b.NIVERSITAS NSA PTRA SKABMI c.SUKABUMI PUTRA NUSA UNIVERSITAS d.UNPS e.TAS SAPU BUMI"
   ]
  },
  {
   "cell_type": "code",
   "execution_count": 90,
   "id": "b18090a1-e75f-4f47-aa68-e04cab6722c8",
   "metadata": {},
   "outputs": [
    {
     "name": "stdout",
     "output_type": "stream",
     "text": [
      "PUTRA NUSA\n",
      "NIVERSITAS NSA PTRA SKABMI \n",
      "['SUKABUMI', 'PUTRA', 'NUSA', 'UNIVERSITAS']\n",
      "UNPS\n",
      "TAS SAPU BUMI \n"
     ]
    }
   ],
   "source": [
    "kalimat = \"UNIVERSITAS NUSA PUTRA SUKABUMI \"\n",
    "\n",
    "#MENGAMBIL KATA (PUTRA NUSA)\n",
    "kata_pertama = kalimat.split()[2] + \" \" + kalimat.split()[1]\n",
    "print(kata_pertama)\n",
    "\n",
    "#MENGAMBIL KATA (NIVERSITAS NSA PTRA SKABMI)\n",
    "kata_kedua = kalimat[1:11] + \" \" + kalimat[12] + \"\" + kalimat[14:18] + \"\" + kalimat[19] + \"\" + kalimat[20:24] + \"\" + kalimat[25:-4] +\"\"+ kalimat[29:] \n",
    "print(kata_kedua)\n",
    "\n",
    "#MENGAMBIL KATA (SUKABUMI PUTRA NUSA UNIVERSITAS)\n",
    "kata_ketiga = kalimat.split()[::-1]\n",
    "print(kata_ketiga)\n",
    "\n",
    "#MENGAMBIL KATA (UNPS)\n",
    "kata_keempat = kalimat.split()[0][0] + \"\" + kalimat.split()[1][0] + \"\" + kalimat.split()[2][0] + \"\" + kalimat.split()[3][0]\n",
    "print(kata_keempat)\n",
    "\n",
    "#MENGAMBIL KATA (TAS SAPU BUMI)\n",
    "kata_kelima = kalimat.split()[0][-3:] + \" \" + kalimat[14:16] + \"\" + kalimat[17:19] + \" \" + kalimat[27:]\n",
    "print(kata_kelima)"
   ]
  },
  {
   "cell_type": "code",
   "execution_count": null,
   "id": "1d98a218-d8de-41e6-9b08-b2b627799395",
   "metadata": {},
   "outputs": [],
   "source": []
  },
  {
   "cell_type": "code",
   "execution_count": null,
   "id": "f66aaad9-2816-4bbe-abf9-f86eb79dd436",
   "metadata": {},
   "outputs": [],
   "source": []
  }
 ],
 "metadata": {
  "kernelspec": {
   "display_name": "Python 3 (ipykernel)",
   "language": "python",
   "name": "python3"
  },
  "language_info": {
   "codemirror_mode": {
    "name": "ipython",
    "version": 3
   },
   "file_extension": ".py",
   "mimetype": "text/x-python",
   "name": "python",
   "nbconvert_exporter": "python",
   "pygments_lexer": "ipython3",
   "version": "3.11.7"
  }
 },
 "nbformat": 4,
 "nbformat_minor": 5
}
